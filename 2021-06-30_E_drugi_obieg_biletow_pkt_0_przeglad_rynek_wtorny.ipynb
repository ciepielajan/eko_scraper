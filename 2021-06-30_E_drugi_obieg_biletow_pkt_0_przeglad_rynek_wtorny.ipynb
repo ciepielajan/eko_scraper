{
 "cells": [
  {
   "cell_type": "markdown",
   "id": "00b728e6",
   "metadata": {},
   "source": [
    "# Przegląd rynku wtórnego:\n",
    "\n",
    "__Analiza:__\n",
    "2021-06-30_E_drugi_obieg_biletow_pkt_0_przeglad_rynek_wtorny.xlsx"
   ]
  }
 ],
 "metadata": {
  "hide_input": false,
  "kernelspec": {
   "display_name": "eko_env_kernel",
   "language": "python",
   "name": "eko_env_kernel"
  },
  "language_info": {
   "codemirror_mode": {
    "name": "ipython",
    "version": 3
   },
   "file_extension": ".py",
   "mimetype": "text/x-python",
   "name": "python",
   "nbconvert_exporter": "python",
   "pygments_lexer": "ipython3",
   "version": "3.9.5"
  },
  "toc": {
   "base_numbering": 1,
   "nav_menu": {},
   "number_sections": true,
   "sideBar": true,
   "skip_h1_title": false,
   "title_cell": "Table of Contents",
   "title_sidebar": "Contents",
   "toc_cell": false,
   "toc_position": {},
   "toc_section_display": true,
   "toc_window_display": false
  }
 },
 "nbformat": 4,
 "nbformat_minor": 5
}
