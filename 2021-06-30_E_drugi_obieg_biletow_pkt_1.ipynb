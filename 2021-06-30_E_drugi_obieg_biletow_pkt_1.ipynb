{
 "cells": [
  {
   "cell_type": "markdown",
   "metadata": {
    "toc": true
   },
   "source": [
    "<h1>Table of Contents<span class=\"tocSkip\"></span></h1>\n",
    "<div class=\"toc\"><ul class=\"toc-item\"><li><span><a href=\"#Wydobywanie-pożądanych-cechy-do-zastosowania-w-procesie-segmentacji-wyszukania-grup-podobnych-wydarzeń\" data-toc-modified-id=\"Wydobywanie-pożądanych-cechy-do-zastosowania-w-procesie-segmentacji-wyszukania-grup-podobnych-wydarzeń-1\"><span class=\"toc-item-num\">1&nbsp;&nbsp;</span>Wydobywanie pożądanych cechy do zastosowania w procesie segmentacji wyszukania grup podobnych wydarzeń</a></span><ul class=\"toc-item\"><li><span><a href=\"#E.-Drugi-obieg-biletów-–-analiza-dostępności-biletów-w-drugim-obiegu-i-korelacja-cen-wyjściowych-do-wartości-biletów-w-drugim-obiegu\" data-toc-modified-id=\"E.-Drugi-obieg-biletów-–-analiza-dostępności-biletów-w-drugim-obiegu-i-korelacja-cen-wyjściowych-do-wartości-biletów-w-drugim-obiegu-1.1\"><span class=\"toc-item-num\">1.1&nbsp;&nbsp;</span>E. Drugi obieg biletów – analiza dostępności biletów w drugim obiegu i korelacja cen wyjściowych do wartości biletów w drugim obiegu</a></span></li></ul></li></ul></div>"
   ]
  },
  {
   "cell_type": "markdown",
   "metadata": {},
   "source": [
    "# Wydobywanie pożądanych cechy do zastosowania w procesie segmentacji wyszukania grup podobnych wydarzeń"
   ]
  },
  {
   "cell_type": "markdown",
   "metadata": {},
   "source": [
    "## E. Drugi obieg biletów – analiza dostępności biletów w drugim obiegu i korelacja cen wyjściowych do wartości biletów w drugim obiegu "
   ]
  },
  {
   "cell_type": "code",
   "execution_count": 3,
   "metadata": {},
   "outputs": [],
   "source": [
    "import numpy as np\n",
    "import pandas as pd\n",
    "import warnings\n",
    "warnings.filterwarnings('ignore')"
   ]
  },
  {
   "cell_type": "markdown",
   "metadata": {
    "id": "slZoOpJV4vD-"
   },
   "source": [
    "Wczytanie pobranych ofert z portali"
   ]
  },
  {
   "cell_type": "code",
   "execution_count": 4,
   "metadata": {},
   "outputs": [
    {
     "data": {
      "text/html": [
       "<div>\n",
       "<style scoped>\n",
       "    .dataframe tbody tr th:only-of-type {\n",
       "        vertical-align: middle;\n",
       "    }\n",
       "\n",
       "    .dataframe tbody tr th {\n",
       "        vertical-align: top;\n",
       "    }\n",
       "\n",
       "    .dataframe thead th {\n",
       "        text-align: right;\n",
       "    }\n",
       "</style>\n",
       "<table border=\"1\" class=\"dataframe\">\n",
       "  <thead>\n",
       "    <tr style=\"text-align: right;\">\n",
       "      <th></th>\n",
       "      <th>events_id</th>\n",
       "      <th>events_title</th>\n",
       "      <th>categories_name</th>\n",
       "      <th>events_user_id</th>\n",
       "      <th>users_name</th>\n",
       "      <th>events_start_date</th>\n",
       "      <th>ticket_count</th>\n",
       "      <th>ticket_price_sum</th>\n",
       "      <th>ticket_price_min</th>\n",
       "      <th>ticket_price_mean</th>\n",
       "      <th>...</th>\n",
       "      <th>Powiat</th>\n",
       "      <th>Województwo</th>\n",
       "      <th>eth_halls_label</th>\n",
       "      <th>eth_full_seats</th>\n",
       "      <th>eth_available</th>\n",
       "      <th>eth_unavailable</th>\n",
       "      <th>eth_halls_count</th>\n",
       "      <th>liczba_biletow_z_rynku_w</th>\n",
       "      <th>srednia_cena_biletow_z_rynku_w</th>\n",
       "      <th>sum_cen_biletow_z_rynku_w</th>\n",
       "    </tr>\n",
       "  </thead>\n",
       "  <tbody>\n",
       "    <tr>\n",
       "      <th>0</th>\n",
       "      <td>336260</td>\n",
       "      <td>Pan Magiczny</td>\n",
       "      <td>Spektakl teatralny</td>\n",
       "      <td>561</td>\n",
       "      <td>MOKiS Bielawa</td>\n",
       "      <td>17-03-2019 15:00</td>\n",
       "      <td>251.0</td>\n",
       "      <td>2510.0</td>\n",
       "      <td>10.0</td>\n",
       "      <td>10.0</td>\n",
       "      <td>...</td>\n",
       "      <td>dzierżoniowski</td>\n",
       "      <td>dolnośląskie</td>\n",
       "      <td>jedna sala</td>\n",
       "      <td>36.0</td>\n",
       "      <td>3.0</td>\n",
       "      <td>33.0</td>\n",
       "      <td>1.0</td>\n",
       "      <td>33</td>\n",
       "      <td>10</td>\n",
       "      <td>330</td>\n",
       "    </tr>\n",
       "    <tr>\n",
       "      <th>1</th>\n",
       "      <td>316437</td>\n",
       "      <td>Plastusiowy Pamiętnik i plamy</td>\n",
       "      <td>Spektakl teatralny</td>\n",
       "      <td>561</td>\n",
       "      <td>MOKiS Bielawa</td>\n",
       "      <td>18-11-2018 15:00</td>\n",
       "      <td>273.0</td>\n",
       "      <td>2730.0</td>\n",
       "      <td>10.0</td>\n",
       "      <td>10.0</td>\n",
       "      <td>...</td>\n",
       "      <td>dzierżoniowski</td>\n",
       "      <td>dolnośląskie</td>\n",
       "      <td>jedna sala</td>\n",
       "      <td>14.0</td>\n",
       "      <td>10.0</td>\n",
       "      <td>4.0</td>\n",
       "      <td>1.0</td>\n",
       "      <td>28</td>\n",
       "      <td>10</td>\n",
       "      <td>280</td>\n",
       "    </tr>\n",
       "    <tr>\n",
       "      <th>2</th>\n",
       "      <td>309752</td>\n",
       "      <td>Smolasty dla CHARYTATYWNI 2019</td>\n",
       "      <td>Koncert</td>\n",
       "      <td>1976</td>\n",
       "      <td>Charytatywni 2018</td>\n",
       "      <td>01-12-2018 17:00</td>\n",
       "      <td>21.0</td>\n",
       "      <td>1050.0</td>\n",
       "      <td>50.0</td>\n",
       "      <td>50.0</td>\n",
       "      <td>...</td>\n",
       "      <td>dzierżoniowski</td>\n",
       "      <td>dolnośląskie</td>\n",
       "      <td>brak sali</td>\n",
       "      <td>0.0</td>\n",
       "      <td>30.0</td>\n",
       "      <td>0.0</td>\n",
       "      <td>0.0</td>\n",
       "      <td>2</td>\n",
       "      <td>55</td>\n",
       "      <td>110</td>\n",
       "    </tr>\n",
       "  </tbody>\n",
       "</table>\n",
       "<p>3 rows × 25 columns</p>\n",
       "</div>"
      ],
      "text/plain": [
       "   events_id                    events_title     categories_name  \\\n",
       "0     336260                    Pan Magiczny  Spektakl teatralny   \n",
       "1     316437   Plastusiowy Pamiętnik i plamy  Spektakl teatralny   \n",
       "2     309752  Smolasty dla CHARYTATYWNI 2019             Koncert   \n",
       "\n",
       "   events_user_id         users_name events_start_date  ticket_count  \\\n",
       "0             561      MOKiS Bielawa  17-03-2019 15:00         251.0   \n",
       "1             561      MOKiS Bielawa  18-11-2018 15:00         273.0   \n",
       "2            1976  Charytatywni 2018  01-12-2018 17:00          21.0   \n",
       "\n",
       "   ticket_price_sum  ticket_price_min  ticket_price_mean  ...          Powiat  \\\n",
       "0            2510.0              10.0               10.0  ...  dzierżoniowski   \n",
       "1            2730.0              10.0               10.0  ...  dzierżoniowski   \n",
       "2            1050.0              50.0               50.0  ...  dzierżoniowski   \n",
       "\n",
       "    Województwo eth_halls_label eth_full_seats eth_available eth_unavailable  \\\n",
       "0  dolnośląskie      jedna sala           36.0           3.0            33.0   \n",
       "1  dolnośląskie      jedna sala           14.0          10.0             4.0   \n",
       "2  dolnośląskie       brak sali            0.0          30.0             0.0   \n",
       "\n",
       "  eth_halls_count liczba_biletow_z_rynku_w  srednia_cena_biletow_z_rynku_w  \\\n",
       "0             1.0                       33                              10   \n",
       "1             1.0                       28                              10   \n",
       "2             0.0                        2                              55   \n",
       "\n",
       "   sum_cen_biletow_z_rynku_w  \n",
       "0                        330  \n",
       "1                        280  \n",
       "2                        110  \n",
       "\n",
       "[3 rows x 25 columns]"
      ]
     },
     "execution_count": 4,
     "metadata": {},
     "output_type": "execute_result"
    }
   ],
   "source": [
    "df_rw = pd.read_csv(\"wydarzenia-pod-etap-2.03.08.2021.csv\" )\n",
    "df_rw[:3]"
   ]
  },
  {
   "cell_type": "code",
   "execution_count": 5,
   "metadata": {},
   "outputs": [
    {
     "data": {
      "text/plain": [
       "0        330\n",
       "1        280\n",
       "2        110\n",
       "3       1150\n",
       "4        405\n",
       "        ... \n",
       "1605    1330\n",
       "1606     500\n",
       "1607       0\n",
       "1608    6225\n",
       "1609       0\n",
       "Name: sum_cen_biletow_z_rynku_w, Length: 1610, dtype: int64"
      ]
     },
     "execution_count": 5,
     "metadata": {},
     "output_type": "execute_result"
    }
   ],
   "source": [
    "df_rw[\"sum_cen_biletow_z_rynku_w\"]"
   ]
  },
  {
   "cell_type": "code",
   "execution_count": 6,
   "metadata": {},
   "outputs": [
    {
     "data": {
      "text/plain": [
       "0       10\n",
       "1       10\n",
       "2       55\n",
       "3       50\n",
       "4       15\n",
       "        ..\n",
       "1605    70\n",
       "1606    20\n",
       "1607     0\n",
       "1608    15\n",
       "1609     0\n",
       "Name: srednia_cena_biletow_z_rynku_w, Length: 1610, dtype: int64"
      ]
     },
     "execution_count": 6,
     "metadata": {},
     "output_type": "execute_result"
    }
   ],
   "source": [
    "df_rw[\"srednia_cena_biletow_z_rynku_w\"]"
   ]
  },
  {
   "cell_type": "code",
   "execution_count": 7,
   "metadata": {},
   "outputs": [
    {
     "data": {
      "text/plain": [
       "0        33\n",
       "1        28\n",
       "2         2\n",
       "3        23\n",
       "4        27\n",
       "       ... \n",
       "1605     19\n",
       "1606     25\n",
       "1607      0\n",
       "1608    415\n",
       "1609      0\n",
       "Name: liczba_biletow_z_rynku_w, Length: 1610, dtype: int64"
      ]
     },
     "execution_count": 7,
     "metadata": {},
     "output_type": "execute_result"
    }
   ],
   "source": [
    "df_rw[\"liczba_biletow_z_rynku_w\"]"
   ]
  },
  {
   "cell_type": "code",
   "execution_count": 13,
   "metadata": {},
   "outputs": [
    {
     "data": {
      "text/plain": [
       "0.0    480\n",
       "1.0    463\n",
       "Name: eth_halls_count, dtype: int64"
      ]
     },
     "execution_count": 13,
     "metadata": {},
     "output_type": "execute_result"
    }
   ],
   "source": [
    "df_rw[df_rw.liczba_biletow_z_rynku_w > 0][\"eth_halls_count\"].value_counts()"
   ]
  },
  {
   "cell_type": "code",
   "execution_count": 16,
   "metadata": {},
   "outputs": [],
   "source": [
    "def get_sector(x):\n",
    "    if x == 0:\n",
    "        return \"event bez numerowanych miejsc\"\n",
    "    elif x == 1:\n",
    "        return \"event z jadną głowna salą\"\n",
    "    else:\n",
    "        return \"brak danych\"\n",
    "\n",
    "df_rw[\"dostepne_sektory\"] = df_rw[\"eth_halls_count\"].apply(lambda x:get_sector(x) )"
   ]
  },
  {
   "cell_type": "code",
   "execution_count": 21,
   "metadata": {},
   "outputs": [],
   "source": [
    "view = [\n",
    "    \"events_id\",\n",
    "    \"sum_cen_biletow_z_rynku_w\",\n",
    "    \"srednia_cena_biletow_z_rynku_w\",\n",
    "    \"liczba_biletow_z_rynku_w\",\n",
    "    \"dostepne_sektory\"\n",
    "]\n",
    "\n",
    "df_rw[view].to_csv(\"2021-06-30_E_drugi_obieg_biletow_pkt_1.csv\",index=False)"
   ]
  },
  {
   "cell_type": "code",
   "execution_count": null,
   "metadata": {},
   "outputs": [],
   "source": []
  }
 ],
 "metadata": {
  "colab": {
   "authorship_tag": "ABX9TyO5WrexrHTnvkp6cydvzPJx",
   "collapsed_sections": [],
   "name": "2021-06-09_trans_table_clients.ipynb",
   "provenance": [
    {
     "file_id": "11nC1V1SPMq8VVC4GMpeCMCZyj8LchBf9",
     "timestamp": 1622640955024
    }
   ]
  },
  "hide_input": false,
  "kernelspec": {
   "display_name": "eko_env_kernel",
   "language": "python",
   "name": "eko_env_kernel"
  },
  "language_info": {
   "codemirror_mode": {
    "name": "ipython",
    "version": 3
   },
   "file_extension": ".py",
   "mimetype": "text/x-python",
   "name": "python",
   "nbconvert_exporter": "python",
   "pygments_lexer": "ipython3",
   "version": "3.9.5"
  },
  "toc": {
   "base_numbering": 1,
   "nav_menu": {},
   "number_sections": true,
   "sideBar": true,
   "skip_h1_title": false,
   "title_cell": "Table of Contents",
   "title_sidebar": "Contents",
   "toc_cell": true,
   "toc_position": {
    "height": "calc(100% - 180px)",
    "left": "10px",
    "top": "150px",
    "width": "191.594px"
   },
   "toc_section_display": true,
   "toc_window_display": false
  }
 },
 "nbformat": 4,
 "nbformat_minor": 1
}
