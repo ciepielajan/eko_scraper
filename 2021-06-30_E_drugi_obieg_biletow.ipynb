{
 "cells": [
  {
   "cell_type": "markdown",
   "metadata": {
    "toc": true
   },
   "source": [
    "<h1>Table of Contents<span class=\"tocSkip\"></span></h1>\n",
    "<div class=\"toc\"><ul class=\"toc-item\"><li><span><a href=\"#Wydobywanie-pożądanych-cechy-do-zastosowania-w-procesie-segmentacji-wyszukania-grup-podobnych-wydarzeń\" data-toc-modified-id=\"Wydobywanie-pożądanych-cechy-do-zastosowania-w-procesie-segmentacji-wyszukania-grup-podobnych-wydarzeń-1\"><span class=\"toc-item-num\">1&nbsp;&nbsp;</span>Wydobywanie pożądanych cechy do zastosowania w procesie segmentacji wyszukania grup podobnych wydarzeń</a></span><ul class=\"toc-item\"><li><span><a href=\"#E.-Drugi-obieg-biletów-–-analiza-dostępności-biletów-w-drugim-obiegu-i-korelacja-cen-wyjściowych-do-wartości-biletów-w-drugim-obiegu\" data-toc-modified-id=\"E.-Drugi-obieg-biletów-–-analiza-dostępności-biletów-w-drugim-obiegu-i-korelacja-cen-wyjściowych-do-wartości-biletów-w-drugim-obiegu-1.1\"><span class=\"toc-item-num\">1.1&nbsp;&nbsp;</span>E. Drugi obieg biletów – analiza dostępności biletów w drugim obiegu i korelacja cen wyjściowych do wartości biletów w drugim obiegu</a></span><ul class=\"toc-item\"><li><span><a href=\"#Analiza-wartościowa-eventów-oraz-dostępności-biletów-wraz-z-analizą-porównawczą-dla-eventów-wyprzedanych-z-podziałem-na:\" data-toc-modified-id=\"Analiza-wartościowa-eventów-oraz-dostępności-biletów-wraz-z-analizą-porównawczą-dla-eventów-wyprzedanych-z-podziałem-na:-1.1.1\"><span class=\"toc-item-num\">1.1.1&nbsp;&nbsp;</span>Analiza wartościowa eventów oraz dostępności biletów wraz z analizą porównawczą dla eventów wyprzedanych z podziałem na:</a></span><ul class=\"toc-item\"><li><span><a href=\"#Wartość-wydarzenia\" data-toc-modified-id=\"Wartość-wydarzenia-1.1.1.1\"><span class=\"toc-item-num\">1.1.1.1&nbsp;&nbsp;</span>Wartość wydarzenia</a></span></li><li><span><a href=\"#Dostępność-sektorów\" data-toc-modified-id=\"Dostępność-sektorów-1.1.1.2\"><span class=\"toc-item-num\">1.1.1.2&nbsp;&nbsp;</span>Dostępność sektorów</a></span></li><li><span><a href=\"#Data-organizacji-wydarzenia\" data-toc-modified-id=\"Data-organizacji-wydarzenia-1.1.1.3\"><span class=\"toc-item-num\">1.1.1.3&nbsp;&nbsp;</span>Data organizacji wydarzenia</a></span></li><li><span><a href=\"#Cena-biletów\" data-toc-modified-id=\"Cena-biletów-1.1.1.4\"><span class=\"toc-item-num\">1.1.1.4&nbsp;&nbsp;</span>Cena biletów</a></span></li></ul></li></ul></li></ul></li><li><span><a href=\"#Wczytanie-całosci\" data-toc-modified-id=\"Wczytanie-całosci-2\"><span class=\"toc-item-num\">2&nbsp;&nbsp;</span>Wczytanie całosci</a></span></li><li><span><a href=\"#Zapis\" data-toc-modified-id=\"Zapis-3\"><span class=\"toc-item-num\">3&nbsp;&nbsp;</span>Zapis</a></span></li></ul></div>"
   ]
  },
  {
   "cell_type": "markdown",
   "metadata": {},
   "source": [
    "# Wydobywanie pożądanych cechy do zastosowania w procesie segmentacji wyszukania grup podobnych wydarzeń"
   ]
  },
  {
   "cell_type": "markdown",
   "metadata": {},
   "source": [
    "## E. Drugi obieg biletów – analiza dostępności biletów w drugim obiegu i korelacja cen wyjściowych do wartości biletów w drugim obiegu "
   ]
  },
  {
   "cell_type": "code",
   "execution_count": 5,
   "metadata": {},
   "outputs": [],
   "source": [
    "import numpy as np\n",
    "import pandas as pd\n",
    "import warnings\n",
    "warnings.filterwarnings('ignore')"
   ]
  },
  {
   "cell_type": "markdown",
   "metadata": {
    "id": "slZoOpJV4vD-"
   },
   "source": [
    "Wczytanie pobranych ofert z portali"
   ]
  },
  {
   "cell_type": "markdown",
   "metadata": {},
   "source": [
    "### Analiza wartościowa eventów oraz dostępności biletów wraz z analizą porównawczą dla eventów wyprzedanych z podziałem na:"
   ]
  },
  {
   "cell_type": "markdown",
   "metadata": {},
   "source": [
    "Wczytanie danych z RW"
   ]
  },
  {
   "cell_type": "markdown",
   "metadata": {},
   "source": [
    "#### Wartość wydarzenia"
   ]
  },
  {
   "cell_type": "markdown",
   "metadata": {},
   "source": [
    "#### Dostępność sektorów\n"
   ]
  },
  {
   "cell_type": "markdown",
   "metadata": {},
   "source": [
    "#### Data organizacji wydarzenia \n"
   ]
  },
  {
   "cell_type": "markdown",
   "metadata": {},
   "source": [
    "#### Cena biletów"
   ]
  },
  {
   "cell_type": "markdown",
   "metadata": {},
   "source": [
    "# Wczytanie całosci"
   ]
  },
  {
   "cell_type": "code",
   "execution_count": 6,
   "metadata": {
    "scrolled": true
   },
   "outputs": [
    {
     "data": {
      "text/html": [
       "<div>\n",
       "<style scoped>\n",
       "    .dataframe tbody tr th:only-of-type {\n",
       "        vertical-align: middle;\n",
       "    }\n",
       "\n",
       "    .dataframe tbody tr th {\n",
       "        vertical-align: top;\n",
       "    }\n",
       "\n",
       "    .dataframe thead th {\n",
       "        text-align: right;\n",
       "    }\n",
       "</style>\n",
       "<table border=\"1\" class=\"dataframe\">\n",
       "  <thead>\n",
       "    <tr style=\"text-align: right;\">\n",
       "      <th></th>\n",
       "      <th>events_id</th>\n",
       "      <th>E_sum_cen_biletow_z_rynku_w</th>\n",
       "      <th>E_srednia_cena_biletow_z_rynku_w</th>\n",
       "      <th>E_liczba_biletow_z_rynku_w</th>\n",
       "      <th>E_dostepne_sektory</th>\n",
       "    </tr>\n",
       "  </thead>\n",
       "  <tbody>\n",
       "    <tr>\n",
       "      <th>0</th>\n",
       "      <td>336260</td>\n",
       "      <td>330</td>\n",
       "      <td>10</td>\n",
       "      <td>33</td>\n",
       "      <td>event z jadną głowna salą</td>\n",
       "    </tr>\n",
       "    <tr>\n",
       "      <th>1</th>\n",
       "      <td>316437</td>\n",
       "      <td>280</td>\n",
       "      <td>10</td>\n",
       "      <td>28</td>\n",
       "      <td>event z jadną głowna salą</td>\n",
       "    </tr>\n",
       "    <tr>\n",
       "      <th>2</th>\n",
       "      <td>309752</td>\n",
       "      <td>110</td>\n",
       "      <td>55</td>\n",
       "      <td>2</td>\n",
       "      <td>event bez numerowanych miejsc</td>\n",
       "    </tr>\n",
       "  </tbody>\n",
       "</table>\n",
       "</div>"
      ],
      "text/plain": [
       "   events_id  E_sum_cen_biletow_z_rynku_w  E_srednia_cena_biletow_z_rynku_w  \\\n",
       "0     336260                          330                                10   \n",
       "1     316437                          280                                10   \n",
       "2     309752                          110                                55   \n",
       "\n",
       "   E_liczba_biletow_z_rynku_w             E_dostepne_sektory  \n",
       "0                          33      event z jadną głowna salą  \n",
       "1                          28      event z jadną głowna salą  \n",
       "2                           2  event bez numerowanych miejsc  "
      ]
     },
     "execution_count": 6,
     "metadata": {},
     "output_type": "execute_result"
    }
   ],
   "source": [
    "df_E = pd.read_csv(\"2021-06-30_E_drugi_obieg_biletow_pkt_1.csv\")\n",
    "df_E.columns = [ \"E_\" + i if i != \"events_id\" else i for i in df_E.columns ]\n",
    "df_E[:3]"
   ]
  },
  {
   "cell_type": "markdown",
   "metadata": {},
   "source": [
    "# Zapis"
   ]
  },
  {
   "cell_type": "code",
   "execution_count": 9,
   "metadata": {},
   "outputs": [],
   "source": [
    "df_E.to_csv(\"2021-06-30_E_drugi_obieg_biletow.csv\", index=False)"
   ]
  },
  {
   "cell_type": "code",
   "execution_count": 10,
   "metadata": {},
   "outputs": [
    {
     "data": {
      "text/html": [
       "<div>\n",
       "<style scoped>\n",
       "    .dataframe tbody tr th:only-of-type {\n",
       "        vertical-align: middle;\n",
       "    }\n",
       "\n",
       "    .dataframe tbody tr th {\n",
       "        vertical-align: top;\n",
       "    }\n",
       "\n",
       "    .dataframe thead th {\n",
       "        text-align: right;\n",
       "    }\n",
       "</style>\n",
       "<table border=\"1\" class=\"dataframe\">\n",
       "  <thead>\n",
       "    <tr style=\"text-align: right;\">\n",
       "      <th></th>\n",
       "      <th>events_id</th>\n",
       "      <th>E_sum_cen_biletow_z_rynku_w</th>\n",
       "      <th>E_srednia_cena_biletow_z_rynku_w</th>\n",
       "      <th>E_liczba_biletow_z_rynku_w</th>\n",
       "      <th>E_dostepne_sektory</th>\n",
       "    </tr>\n",
       "  </thead>\n",
       "  <tbody>\n",
       "    <tr>\n",
       "      <th>0</th>\n",
       "      <td>336260</td>\n",
       "      <td>330</td>\n",
       "      <td>10</td>\n",
       "      <td>33</td>\n",
       "      <td>event z jadną głowna salą</td>\n",
       "    </tr>\n",
       "    <tr>\n",
       "      <th>1</th>\n",
       "      <td>316437</td>\n",
       "      <td>280</td>\n",
       "      <td>10</td>\n",
       "      <td>28</td>\n",
       "      <td>event z jadną głowna salą</td>\n",
       "    </tr>\n",
       "    <tr>\n",
       "      <th>2</th>\n",
       "      <td>309752</td>\n",
       "      <td>110</td>\n",
       "      <td>55</td>\n",
       "      <td>2</td>\n",
       "      <td>event bez numerowanych miejsc</td>\n",
       "    </tr>\n",
       "    <tr>\n",
       "      <th>3</th>\n",
       "      <td>332770</td>\n",
       "      <td>1150</td>\n",
       "      <td>50</td>\n",
       "      <td>23</td>\n",
       "      <td>event z jadną głowna salą</td>\n",
       "    </tr>\n",
       "    <tr>\n",
       "      <th>4</th>\n",
       "      <td>388519</td>\n",
       "      <td>405</td>\n",
       "      <td>15</td>\n",
       "      <td>27</td>\n",
       "      <td>event z jadną głowna salą</td>\n",
       "    </tr>\n",
       "    <tr>\n",
       "      <th>...</th>\n",
       "      <td>...</td>\n",
       "      <td>...</td>\n",
       "      <td>...</td>\n",
       "      <td>...</td>\n",
       "      <td>...</td>\n",
       "    </tr>\n",
       "    <tr>\n",
       "      <th>1605</th>\n",
       "      <td>330427</td>\n",
       "      <td>1330</td>\n",
       "      <td>70</td>\n",
       "      <td>19</td>\n",
       "      <td>event z jadną głowna salą</td>\n",
       "    </tr>\n",
       "    <tr>\n",
       "      <th>1606</th>\n",
       "      <td>309925</td>\n",
       "      <td>500</td>\n",
       "      <td>20</td>\n",
       "      <td>25</td>\n",
       "      <td>event z jadną głowna salą</td>\n",
       "    </tr>\n",
       "    <tr>\n",
       "      <th>1607</th>\n",
       "      <td>312996</td>\n",
       "      <td>0</td>\n",
       "      <td>0</td>\n",
       "      <td>0</td>\n",
       "      <td>event z jadną głowna salą</td>\n",
       "    </tr>\n",
       "    <tr>\n",
       "      <th>1608</th>\n",
       "      <td>270394</td>\n",
       "      <td>6225</td>\n",
       "      <td>15</td>\n",
       "      <td>415</td>\n",
       "      <td>event z jadną głowna salą</td>\n",
       "    </tr>\n",
       "    <tr>\n",
       "      <th>1609</th>\n",
       "      <td>337598</td>\n",
       "      <td>0</td>\n",
       "      <td>0</td>\n",
       "      <td>0</td>\n",
       "      <td>event z jadną głowna salą</td>\n",
       "    </tr>\n",
       "  </tbody>\n",
       "</table>\n",
       "<p>1610 rows × 5 columns</p>\n",
       "</div>"
      ],
      "text/plain": [
       "      events_id  E_sum_cen_biletow_z_rynku_w  \\\n",
       "0        336260                          330   \n",
       "1        316437                          280   \n",
       "2        309752                          110   \n",
       "3        332770                         1150   \n",
       "4        388519                          405   \n",
       "...         ...                          ...   \n",
       "1605     330427                         1330   \n",
       "1606     309925                          500   \n",
       "1607     312996                            0   \n",
       "1608     270394                         6225   \n",
       "1609     337598                            0   \n",
       "\n",
       "      E_srednia_cena_biletow_z_rynku_w  E_liczba_biletow_z_rynku_w  \\\n",
       "0                                   10                          33   \n",
       "1                                   10                          28   \n",
       "2                                   55                           2   \n",
       "3                                   50                          23   \n",
       "4                                   15                          27   \n",
       "...                                ...                         ...   \n",
       "1605                                70                          19   \n",
       "1606                                20                          25   \n",
       "1607                                 0                           0   \n",
       "1608                                15                         415   \n",
       "1609                                 0                           0   \n",
       "\n",
       "                 E_dostepne_sektory  \n",
       "0         event z jadną głowna salą  \n",
       "1         event z jadną głowna salą  \n",
       "2     event bez numerowanych miejsc  \n",
       "3         event z jadną głowna salą  \n",
       "4         event z jadną głowna salą  \n",
       "...                             ...  \n",
       "1605      event z jadną głowna salą  \n",
       "1606      event z jadną głowna salą  \n",
       "1607      event z jadną głowna salą  \n",
       "1608      event z jadną głowna salą  \n",
       "1609      event z jadną głowna salą  \n",
       "\n",
       "[1610 rows x 5 columns]"
      ]
     },
     "execution_count": 10,
     "metadata": {},
     "output_type": "execute_result"
    }
   ],
   "source": [
    "pd.read_csv(\"2021-06-30_E_drugi_obieg_biletow.csv\")"
   ]
  },
  {
   "cell_type": "code",
   "execution_count": null,
   "metadata": {},
   "outputs": [],
   "source": []
  },
  {
   "cell_type": "code",
   "execution_count": null,
   "metadata": {},
   "outputs": [],
   "source": []
  }
 ],
 "metadata": {
  "colab": {
   "authorship_tag": "ABX9TyO5WrexrHTnvkp6cydvzPJx",
   "collapsed_sections": [],
   "name": "2021-06-09_trans_table_clients.ipynb",
   "provenance": [
    {
     "file_id": "11nC1V1SPMq8VVC4GMpeCMCZyj8LchBf9",
     "timestamp": 1622640955024
    }
   ]
  },
  "hide_input": false,
  "kernelspec": {
   "display_name": "eko_env_kernel",
   "language": "python",
   "name": "eko_env_kernel"
  },
  "language_info": {
   "codemirror_mode": {
    "name": "ipython",
    "version": 3
   },
   "file_extension": ".py",
   "mimetype": "text/x-python",
   "name": "python",
   "nbconvert_exporter": "python",
   "pygments_lexer": "ipython3",
   "version": "3.9.5"
  },
  "toc": {
   "base_numbering": 1,
   "nav_menu": {},
   "number_sections": true,
   "sideBar": true,
   "skip_h1_title": false,
   "title_cell": "Table of Contents",
   "title_sidebar": "Contents",
   "toc_cell": true,
   "toc_position": {
    "height": "calc(100% - 180px)",
    "left": "10px",
    "top": "150px",
    "width": "191.594px"
   },
   "toc_section_display": true,
   "toc_window_display": false
  }
 },
 "nbformat": 4,
 "nbformat_minor": 1
}
